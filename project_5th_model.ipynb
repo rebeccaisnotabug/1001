{
 "cells": [
  {
   "cell_type": "code",
   "execution_count": 13,
   "metadata": {},
   "outputs": [],
   "source": [
    "%matplotlib inline\n",
    "import numpy as np\n",
    "import pandas as pd\n",
    "import matplotlib.pyplot as plt\n",
    "\n",
    "from sklearn.model_selection import train_test_split,cross_val_score,cross_validate,cross_val_predict, KFold, StratifiedKFold, GridSearchCV\n",
    "from sklearn.pipeline import make_pipeline, Pipeline\n",
    "from sklearn.preprocessing import StandardScaler, LabelEncoder\n",
    " \n",
    "from sklearn.linear_model import LogisticRegression\n",
    "from sklearn.tree import DecisionTreeClassifier\n",
    "from sklearn.neighbors import KNeighborsClassifier \n",
    "from sklearn.ensemble import RandomForestClassifier,GradientBoostingClassifier, AdaBoostClassifier, VotingClassifier\n",
    "from sklearn.gaussian_process.kernels import RBF\n",
    "\n",
    "from sklearn.metrics import confusion_matrix, classification_report, make_scorer, precision_score,recall_score, precision_recall_curve, f1_score, roc_curve, accuracy_score, roc_auc_score\n",
    "\n",
    "from imblearn.over_sampling import SMOTE\n",
    "from imblearn.under_sampling import RandomUnderSampler\n",
    "from imblearn.pipeline import Pipeline as imbPipeline\n",
    "\n",
    "import seaborn as sns"
   ]
  },
  {
   "cell_type": "code",
   "execution_count": 14,
   "metadata": {},
   "outputs": [],
   "source": [
    "from warnings import filterwarnings\n",
    "filterwarnings('ignore')"
   ]
  },
  {
   "cell_type": "code",
   "execution_count": 15,
   "metadata": {},
   "outputs": [],
   "source": [
    "import pickle\n",
    "with open(\"df_bank.pkl\", 'rb') as picklefile: \n",
    "    df = pickle.load(picklefile)"
   ]
  },
  {
   "cell_type": "code",
   "execution_count": 16,
   "metadata": {},
   "outputs": [
    {
     "data": {
      "text/html": [
       "<div>\n",
       "<style scoped>\n",
       "    .dataframe tbody tr th:only-of-type {\n",
       "        vertical-align: middle;\n",
       "    }\n",
       "\n",
       "    .dataframe tbody tr th {\n",
       "        vertical-align: top;\n",
       "    }\n",
       "\n",
       "    .dataframe thead th {\n",
       "        text-align: right;\n",
       "    }\n",
       "</style>\n",
       "<table border=\"1\" class=\"dataframe\">\n",
       "  <thead>\n",
       "    <tr style=\"text-align: right;\">\n",
       "      <th></th>\n",
       "      <th>age</th>\n",
       "      <th>campaign</th>\n",
       "      <th>previous</th>\n",
       "      <th>job_admin.</th>\n",
       "      <th>job_blue-collar</th>\n",
       "      <th>job_entrepreneur</th>\n",
       "      <th>job_housemaid</th>\n",
       "      <th>job_management</th>\n",
       "      <th>job_retired</th>\n",
       "      <th>job_self-employed</th>\n",
       "      <th>...</th>\n",
       "      <th>poutcome_nonexistent</th>\n",
       "      <th>poutcome_success</th>\n",
       "      <th>pdays_999</th>\n",
       "      <th>pdays_0_4</th>\n",
       "      <th>pdays_5_9</th>\n",
       "      <th>pdays_10_14</th>\n",
       "      <th>pdays_15_19</th>\n",
       "      <th>pdays_20_22</th>\n",
       "      <th>pdays_25_27</th>\n",
       "      <th>y</th>\n",
       "    </tr>\n",
       "  </thead>\n",
       "  <tbody>\n",
       "    <tr>\n",
       "      <th>0</th>\n",
       "      <td>56</td>\n",
       "      <td>1</td>\n",
       "      <td>0</td>\n",
       "      <td>0</td>\n",
       "      <td>0</td>\n",
       "      <td>0</td>\n",
       "      <td>1</td>\n",
       "      <td>0</td>\n",
       "      <td>0</td>\n",
       "      <td>0</td>\n",
       "      <td>...</td>\n",
       "      <td>1</td>\n",
       "      <td>0</td>\n",
       "      <td>1</td>\n",
       "      <td>0</td>\n",
       "      <td>0</td>\n",
       "      <td>0</td>\n",
       "      <td>0</td>\n",
       "      <td>0</td>\n",
       "      <td>0</td>\n",
       "      <td>0</td>\n",
       "    </tr>\n",
       "    <tr>\n",
       "      <th>1</th>\n",
       "      <td>57</td>\n",
       "      <td>1</td>\n",
       "      <td>0</td>\n",
       "      <td>0</td>\n",
       "      <td>0</td>\n",
       "      <td>0</td>\n",
       "      <td>0</td>\n",
       "      <td>0</td>\n",
       "      <td>0</td>\n",
       "      <td>0</td>\n",
       "      <td>...</td>\n",
       "      <td>1</td>\n",
       "      <td>0</td>\n",
       "      <td>1</td>\n",
       "      <td>0</td>\n",
       "      <td>0</td>\n",
       "      <td>0</td>\n",
       "      <td>0</td>\n",
       "      <td>0</td>\n",
       "      <td>0</td>\n",
       "      <td>0</td>\n",
       "    </tr>\n",
       "    <tr>\n",
       "      <th>2</th>\n",
       "      <td>37</td>\n",
       "      <td>1</td>\n",
       "      <td>0</td>\n",
       "      <td>0</td>\n",
       "      <td>0</td>\n",
       "      <td>0</td>\n",
       "      <td>0</td>\n",
       "      <td>0</td>\n",
       "      <td>0</td>\n",
       "      <td>0</td>\n",
       "      <td>...</td>\n",
       "      <td>1</td>\n",
       "      <td>0</td>\n",
       "      <td>1</td>\n",
       "      <td>0</td>\n",
       "      <td>0</td>\n",
       "      <td>0</td>\n",
       "      <td>0</td>\n",
       "      <td>0</td>\n",
       "      <td>0</td>\n",
       "      <td>0</td>\n",
       "    </tr>\n",
       "    <tr>\n",
       "      <th>3</th>\n",
       "      <td>40</td>\n",
       "      <td>1</td>\n",
       "      <td>0</td>\n",
       "      <td>1</td>\n",
       "      <td>0</td>\n",
       "      <td>0</td>\n",
       "      <td>0</td>\n",
       "      <td>0</td>\n",
       "      <td>0</td>\n",
       "      <td>0</td>\n",
       "      <td>...</td>\n",
       "      <td>1</td>\n",
       "      <td>0</td>\n",
       "      <td>1</td>\n",
       "      <td>0</td>\n",
       "      <td>0</td>\n",
       "      <td>0</td>\n",
       "      <td>0</td>\n",
       "      <td>0</td>\n",
       "      <td>0</td>\n",
       "      <td>0</td>\n",
       "    </tr>\n",
       "    <tr>\n",
       "      <th>4</th>\n",
       "      <td>56</td>\n",
       "      <td>1</td>\n",
       "      <td>0</td>\n",
       "      <td>0</td>\n",
       "      <td>0</td>\n",
       "      <td>0</td>\n",
       "      <td>0</td>\n",
       "      <td>0</td>\n",
       "      <td>0</td>\n",
       "      <td>0</td>\n",
       "      <td>...</td>\n",
       "      <td>1</td>\n",
       "      <td>0</td>\n",
       "      <td>1</td>\n",
       "      <td>0</td>\n",
       "      <td>0</td>\n",
       "      <td>0</td>\n",
       "      <td>0</td>\n",
       "      <td>0</td>\n",
       "      <td>0</td>\n",
       "      <td>0</td>\n",
       "    </tr>\n",
       "  </tbody>\n",
       "</table>\n",
       "<p>5 rows × 64 columns</p>\n",
       "</div>"
      ],
      "text/plain": [
       "   age  campaign  previous  job_admin.  job_blue-collar  job_entrepreneur  \\\n",
       "0   56         1         0           0                0                 0   \n",
       "1   57         1         0           0                0                 0   \n",
       "2   37         1         0           0                0                 0   \n",
       "3   40         1         0           1                0                 0   \n",
       "4   56         1         0           0                0                 0   \n",
       "\n",
       "   job_housemaid  job_management  job_retired  job_self-employed  ...  \\\n",
       "0              1               0            0                  0  ...   \n",
       "1              0               0            0                  0  ...   \n",
       "2              0               0            0                  0  ...   \n",
       "3              0               0            0                  0  ...   \n",
       "4              0               0            0                  0  ...   \n",
       "\n",
       "   poutcome_nonexistent  poutcome_success  pdays_999  pdays_0_4  pdays_5_9  \\\n",
       "0                     1                 0          1          0          0   \n",
       "1                     1                 0          1          0          0   \n",
       "2                     1                 0          1          0          0   \n",
       "3                     1                 0          1          0          0   \n",
       "4                     1                 0          1          0          0   \n",
       "\n",
       "   pdays_10_14  pdays_15_19  pdays_20_22  pdays_25_27  y  \n",
       "0            0            0            0            0  0  \n",
       "1            0            0            0            0  0  \n",
       "2            0            0            0            0  0  \n",
       "3            0            0            0            0  0  \n",
       "4            0            0            0            0  0  \n",
       "\n",
       "[5 rows x 64 columns]"
      ]
     },
     "execution_count": 16,
     "metadata": {},
     "output_type": "execute_result"
    }
   ],
   "source": [
    "df.head()"
   ]
  },
  {
   "cell_type": "markdown",
   "metadata": {},
   "source": [
    "## 1. Baseline Models"
   ]
  },
  {
   "cell_type": "code",
   "execution_count": 87,
   "metadata": {},
   "outputs": [],
   "source": [
    "features=list(df.columns.values)\n",
    "features.remove('y')\n",
    "\n",
    "X = df[features]\n",
    "Y = df['y']\n",
    "\n",
    "X_train, X_test, y_train, y_test = train_test_split(X, Y, test_size=.2, random_state=20)"
   ]
  },
  {
   "cell_type": "code",
   "execution_count": 88,
   "metadata": {},
   "outputs": [
    {
     "data": {
      "text/plain": [
       "<matplotlib.legend.Legend at 0x7fd8495ec430>"
      ]
     },
     "execution_count": 88,
     "metadata": {},
     "output_type": "execute_result"
    },
    {
     "data": {
      "image/png": "[encoded data removed]",
      "text/plain": [
       "<Figure size 432x432 with 1 Axes>"
      ]
     },
     "metadata": {
      "needs_background": "light"
     },
     "output_type": "display_data"
    }
   ],
   "source": [
    "models=[(LogisticRegression(), 'LR'), (DecisionTreeClassifier(),'DecisionTree'),\n",
    "        (RandomForestClassifier(),'RandomForest'),\n",
    "        (GradientBoostingClassifier(),'GradientBoost'),(AdaBoostClassifier(),'AdaBoost')]\n",
    "\n",
    "plt.figure(figsize=(6,6))\n",
    "for model, model_label in models:\n",
    "    if model_label == 'LR':\n",
    "        scaler = StandardScaler()\n",
    "        scaled_xtrain = scaler.fit_transform(X_train)\n",
    "        scaled_xtest = scaler.transform(X_test)\n",
    "\n",
    "        model.fit(scaled_xtrain, y_train)\n",
    "        y_predict = model.predict_proba(scaled_xtest)[:,1]\n",
    "        fpr, tpr, threshold = roc_curve(y_test, y_predict)\n",
    "        auc = roc_auc_score(y_test, y_predict)\n",
    "        c = (np.random.rand(), np.random.rand(), np.random.rand())\n",
    "        plt.plot(fpr, tpr, color=c, label=model_label+ ' '+ 'auc: '+ str(round(auc,5)))\n",
    "    else:\n",
    "        model.fit(X_train, y_train)\n",
    "        y_predict = model.predict_proba(X_test)[:,1]\n",
    "        fpr, tpr, threshold = roc_curve(y_test, y_predict)\n",
    "        auc = roc_auc_score(y_test, y_predict)\n",
    "        c = (np.random.rand(), np.random.rand(), np.random.rand())\n",
    "        plt.plot(fpr, tpr, color=c, label=model_label+ ' '+ 'auc: '+ str(round(auc,5)))\n",
    "\n",
    "\n",
    "plt.plot([0,1],[0,1],'r--')\n",
    "plt.legend()"
   ]
  },
  {
   "cell_type": "code",
   "execution_count": 32,
   "metadata": {},
   "outputs": [
    {
     "name": "stdout",
     "output_type": "stream",
     "text": [
      "LR auc: 0.7542439206535823\n",
      "classification_report:\n",
      "               precision    recall  f1-score   support\n",
      "\n",
      "           0       0.91      0.99      0.94      7328\n",
      "           1       0.62      0.17      0.26       910\n",
      "\n",
      "    accuracy                           0.90      8238\n",
      "   macro avg       0.76      0.58      0.60      8238\n",
      "weighted avg       0.87      0.90      0.87      8238\n",
      "\n",
      "DecisionTree auc: 0.6035386624838044\n",
      "classification_report:\n",
      "               precision    recall  f1-score   support\n",
      "\n",
      "           0       0.91      0.91      0.91      7328\n",
      "           1       0.28      0.29      0.29       910\n",
      "\n",
      "    accuracy                           0.84      8238\n",
      "   macro avg       0.60      0.60      0.60      8238\n",
      "weighted avg       0.84      0.84      0.84      8238\n",
      "\n",
      "RandomForest auc: 0.7348930340947263\n",
      "classification_report:\n",
      "               precision    recall  f1-score   support\n",
      "\n",
      "           0       0.91      0.97      0.94      7328\n",
      "           1       0.49      0.22      0.31       910\n",
      "\n",
      "    accuracy                           0.89      8238\n",
      "   macro avg       0.70      0.60      0.62      8238\n",
      "weighted avg       0.86      0.89      0.87      8238\n",
      "\n",
      "GradientBoost auc: 0.7663826689140555\n",
      "classification_report:\n",
      "               precision    recall  f1-score   support\n",
      "\n",
      "           0       0.91      0.99      0.94      7328\n",
      "           1       0.62      0.19      0.29       910\n",
      "\n",
      "    accuracy                           0.90      8238\n",
      "   macro avg       0.76      0.59      0.62      8238\n",
      "weighted avg       0.88      0.90      0.87      8238\n",
      "\n",
      "AdaBoost auc: 0.7587173538797447\n",
      "classification_report:\n",
      "               precision    recall  f1-score   support\n",
      "\n",
      "           0       0.91      0.99      0.94      7328\n",
      "           1       0.61      0.17      0.27       910\n",
      "\n",
      "    accuracy                           0.90      8238\n",
      "   macro avg       0.76      0.58      0.61      8238\n",
      "weighted avg       0.87      0.90      0.87      8238\n",
      "\n"
     ]
    }
   ],
   "source": [
    "models=[(LogisticRegression(), 'LR'),\n",
    "        (DecisionTreeClassifier(),'DecisionTree'),(RandomForestClassifier(),'RandomForest'),\n",
    "        (GradientBoostingClassifier(),'GradientBoost'),(AdaBoostClassifier(),'AdaBoost')]\n",
    "\n",
    "#kf = KFold(n_splits=5, shuffle=True, random_state = 123)\n",
    "\n",
    "for model, model_label in models:\n",
    "    if model_label == 'LR':\n",
    "        scaler = StandardScaler()\n",
    "        scaled_xtrain = scaler.fit_transform(X_train)\n",
    "        scaled_xtest = scaler.transform(X_test)\n",
    "        model.fit(scaled_xtrain, y_train)\n",
    "        \n",
    "        y_predict_proba = model.predict_proba(scaled_xtest)[:,1]\n",
    "        auc = roc_auc_score(y_test, y_predict_proba)\n",
    "        y_predict = model.predict(scaled_xtest)\n",
    "    \n",
    "    else:\n",
    "        model.fit(X_train, y_train)\n",
    "        y_predict = model.predict_proba(X_test)[:,1]\n",
    "        fpr, tpr, threshold = roc_curve(y_test, y_predict)\n",
    "        auc = roc_auc_score(y_test, y_predict)\n",
    "        \n",
    "        y_predict_proba = model.predict_proba(X_test)[:,1]\n",
    "        auc = roc_auc_score(y_test, y_predict_proba)\n",
    "        y_predict = model.predict(X_test)\n",
    "  \n",
    "\n",
    "    print(model_label, 'auc:', auc)\n",
    "    print('classification_report:\\n',classification_report(y_test,y_predict))\n",
    "    "
   ]
  },
  {
   "cell_type": "markdown",
   "metadata": {},
   "source": [
    "## 2. Adjust balance between 2 outcomes"
   ]
  },
  {
   "cell_type": "code",
   "execution_count": 34,
   "metadata": {},
   "outputs": [],
   "source": [
    "from imblearn.over_sampling import SMOTE\n",
    "from imblearn.under_sampling import RandomUnderSampler\n",
    "\n",
    "\n",
    "sm = SMOTE(random_state = 4)\n",
    "X_train_res, y_train_res= sm.fit_sample(X_train, y_train)"
   ]
  },
  {
   "cell_type": "code",
   "execution_count": 35,
   "metadata": {},
   "outputs": [
    {
     "data": {
      "text/plain": [
       "1    29220\n",
       "0    29220\n",
       "Name: y, dtype: int64"
      ]
     },
     "execution_count": 35,
     "metadata": {},
     "output_type": "execute_result"
    }
   ],
   "source": [
    "y_train_res.value_counts()"
   ]
  },
  {
   "cell_type": "code",
   "execution_count": 36,
   "metadata": {},
   "outputs": [
    {
     "name": "stdout",
     "output_type": "stream",
     "text": [
      "LR auc: 0.7533893031095542\n",
      "classification_report:\n",
      "               precision    recall  f1-score   support\n",
      "\n",
      "           0       0.91      0.99      0.94      7328\n",
      "           1       0.61      0.18      0.28       910\n",
      "\n",
      "    accuracy                           0.90      8238\n",
      "   macro avg       0.76      0.58      0.61      8238\n",
      "weighted avg       0.87      0.90      0.87      8238\n",
      "\n",
      "DecisionTree auc: 0.6044493647727818\n",
      "classification_report:\n",
      "               precision    recall  f1-score   support\n",
      "\n",
      "           0       0.91      0.90      0.90      7328\n",
      "           1       0.27      0.30      0.28       910\n",
      "\n",
      "    accuracy                           0.83      8238\n",
      "   macro avg       0.59      0.60      0.59      8238\n",
      "weighted avg       0.84      0.83      0.84      8238\n",
      "\n",
      "RandomForest auc: 0.747501229665531\n",
      "classification_report:\n",
      "               precision    recall  f1-score   support\n",
      "\n",
      "           0       0.92      0.95      0.93      7328\n",
      "           1       0.44      0.31      0.36       910\n",
      "\n",
      "    accuracy                           0.88      8238\n",
      "   macro avg       0.68      0.63      0.65      8238\n",
      "weighted avg       0.86      0.88      0.87      8238\n",
      "\n",
      "GradientBoost auc: 0.7617761468880464\n",
      "classification_report:\n",
      "               precision    recall  f1-score   support\n",
      "\n",
      "           0       0.93      0.94      0.93      7328\n",
      "           1       0.45      0.43      0.44       910\n",
      "\n",
      "    accuracy                           0.88      8238\n",
      "   macro avg       0.69      0.68      0.69      8238\n",
      "weighted avg       0.88      0.88      0.88      8238\n",
      "\n",
      "AdaBoost auc: 0.7290428253515043\n",
      "classification_report:\n",
      "               precision    recall  f1-score   support\n",
      "\n",
      "           0       0.92      0.94      0.93      7328\n",
      "           1       0.45      0.36      0.40       910\n",
      "\n",
      "    accuracy                           0.88      8238\n",
      "   macro avg       0.68      0.65      0.67      8238\n",
      "weighted avg       0.87      0.88      0.87      8238\n",
      "\n"
     ]
    }
   ],
   "source": [
    "models=[(LogisticRegression(), 'LR'),\n",
    "        (DecisionTreeClassifier(),'DecisionTree'),(RandomForestClassifier(),'RandomForest'),\n",
    "        (GradientBoostingClassifier(),'GradientBoost'),(AdaBoostClassifier(),'AdaBoost')]\n",
    "\n",
    "for model, model_label in models:\n",
    "    if model_label == 'LR':\n",
    "        scaler = StandardScaler()\n",
    "        scaled_xtrain = scaler.fit_transform(X_train_res)\n",
    "        scaled_xtest = scaler.transform(X_test)\n",
    "        model.fit(scaled_xtrain, y_train_res)\n",
    "        \n",
    "        y_predict_proba = model.predict_proba(scaled_xtest)[:,1]\n",
    "        auc = roc_auc_score(y_test, y_predict_proba)\n",
    "        y_predict = model.predict(scaled_xtest)\n",
    "    \n",
    "    else:\n",
    "        model.fit(X_train_res, y_train_res)\n",
    "        y_predict = model.predict_proba(X_test)[:,1]\n",
    "        fpr, tpr, threshold = roc_curve(y_test, y_predict)\n",
    "        auc = roc_auc_score(y_test, y_predict)\n",
    "        \n",
    "        y_predict_proba = model.predict_proba(X_test)[:,1]\n",
    "        auc = roc_auc_score(y_test, y_predict_proba)\n",
    "        y_predict = model.predict(X_test)\n",
    "  \n",
    "\n",
    "    print(model_label, 'auc:', auc)\n",
    "    print('classification_report:\\n',classification_report(y_test,y_predict))"
   ]
  },
  {
   "cell_type": "markdown",
   "metadata": {},
   "source": [
    "We trained models on balanced train set and test on test set -- increase in recall. auc remains similiar, accuracy decreases slightly."
   ]
  },
  {
   "cell_type": "markdown",
   "metadata": {},
   "source": [
    "## 3. Add Features: Social and Economic Attributes"
   ]
  },
  {
   "cell_type": "code",
   "execution_count": 37,
   "metadata": {},
   "outputs": [],
   "source": [
    "with open(\"df_econ.pkl\", 'rb') as picklefile: \n",
    "    df_econ = pickle.load(picklefile)"
   ]
  },
  {
   "cell_type": "code",
   "execution_count": 38,
   "metadata": {},
   "outputs": [
    {
     "data": {
      "text/html": [
       "<div>\n",
       "<style scoped>\n",
       "    .dataframe tbody tr th:only-of-type {\n",
       "        vertical-align: middle;\n",
       "    }\n",
       "\n",
       "    .dataframe tbody tr th {\n",
       "        vertical-align: top;\n",
       "    }\n",
       "\n",
       "    .dataframe thead th {\n",
       "        text-align: right;\n",
       "    }\n",
       "</style>\n",
       "<table border=\"1\" class=\"dataframe\">\n",
       "  <thead>\n",
       "    <tr style=\"text-align: right;\">\n",
       "      <th></th>\n",
       "      <th>age</th>\n",
       "      <th>campaign</th>\n",
       "      <th>previous</th>\n",
       "      <th>job_admin.</th>\n",
       "      <th>job_blue-collar</th>\n",
       "      <th>job_entrepreneur</th>\n",
       "      <th>job_housemaid</th>\n",
       "      <th>job_management</th>\n",
       "      <th>job_retired</th>\n",
       "      <th>job_self-employed</th>\n",
       "      <th>...</th>\n",
       "      <th>pdays_10_14</th>\n",
       "      <th>pdays_15_19</th>\n",
       "      <th>pdays_20_22</th>\n",
       "      <th>pdays_25_27</th>\n",
       "      <th>emp.var.rate</th>\n",
       "      <th>cons.price.idx</th>\n",
       "      <th>cons.conf.idx</th>\n",
       "      <th>euribor3m</th>\n",
       "      <th>nr.employed</th>\n",
       "      <th>y</th>\n",
       "    </tr>\n",
       "  </thead>\n",
       "  <tbody>\n",
       "    <tr>\n",
       "      <th>0</th>\n",
       "      <td>56</td>\n",
       "      <td>1</td>\n",
       "      <td>0</td>\n",
       "      <td>0</td>\n",
       "      <td>0</td>\n",
       "      <td>0</td>\n",
       "      <td>1</td>\n",
       "      <td>0</td>\n",
       "      <td>0</td>\n",
       "      <td>0</td>\n",
       "      <td>...</td>\n",
       "      <td>0</td>\n",
       "      <td>0</td>\n",
       "      <td>0</td>\n",
       "      <td>0</td>\n",
       "      <td>1.1</td>\n",
       "      <td>93.994</td>\n",
       "      <td>-36.4</td>\n",
       "      <td>4.857</td>\n",
       "      <td>5191.0</td>\n",
       "      <td>0</td>\n",
       "    </tr>\n",
       "    <tr>\n",
       "      <th>1</th>\n",
       "      <td>57</td>\n",
       "      <td>1</td>\n",
       "      <td>0</td>\n",
       "      <td>0</td>\n",
       "      <td>0</td>\n",
       "      <td>0</td>\n",
       "      <td>0</td>\n",
       "      <td>0</td>\n",
       "      <td>0</td>\n",
       "      <td>0</td>\n",
       "      <td>...</td>\n",
       "      <td>0</td>\n",
       "      <td>0</td>\n",
       "      <td>0</td>\n",
       "      <td>0</td>\n",
       "      <td>1.1</td>\n",
       "      <td>93.994</td>\n",
       "      <td>-36.4</td>\n",
       "      <td>4.857</td>\n",
       "      <td>5191.0</td>\n",
       "      <td>0</td>\n",
       "    </tr>\n",
       "    <tr>\n",
       "      <th>2</th>\n",
       "      <td>37</td>\n",
       "      <td>1</td>\n",
       "      <td>0</td>\n",
       "      <td>0</td>\n",
       "      <td>0</td>\n",
       "      <td>0</td>\n",
       "      <td>0</td>\n",
       "      <td>0</td>\n",
       "      <td>0</td>\n",
       "      <td>0</td>\n",
       "      <td>...</td>\n",
       "      <td>0</td>\n",
       "      <td>0</td>\n",
       "      <td>0</td>\n",
       "      <td>0</td>\n",
       "      <td>1.1</td>\n",
       "      <td>93.994</td>\n",
       "      <td>-36.4</td>\n",
       "      <td>4.857</td>\n",
       "      <td>5191.0</td>\n",
       "      <td>0</td>\n",
       "    </tr>\n",
       "    <tr>\n",
       "      <th>3</th>\n",
       "      <td>40</td>\n",
       "      <td>1</td>\n",
       "      <td>0</td>\n",
       "      <td>1</td>\n",
       "      <td>0</td>\n",
       "      <td>0</td>\n",
       "      <td>0</td>\n",
       "      <td>0</td>\n",
       "      <td>0</td>\n",
       "      <td>0</td>\n",
       "      <td>...</td>\n",
       "      <td>0</td>\n",
       "      <td>0</td>\n",
       "      <td>0</td>\n",
       "      <td>0</td>\n",
       "      <td>1.1</td>\n",
       "      <td>93.994</td>\n",
       "      <td>-36.4</td>\n",
       "      <td>4.857</td>\n",
       "      <td>5191.0</td>\n",
       "      <td>0</td>\n",
       "    </tr>\n",
       "    <tr>\n",
       "      <th>4</th>\n",
       "      <td>56</td>\n",
       "      <td>1</td>\n",
       "      <td>0</td>\n",
       "      <td>0</td>\n",
       "      <td>0</td>\n",
       "      <td>0</td>\n",
       "      <td>0</td>\n",
       "      <td>0</td>\n",
       "      <td>0</td>\n",
       "      <td>0</td>\n",
       "      <td>...</td>\n",
       "      <td>0</td>\n",
       "      <td>0</td>\n",
       "      <td>0</td>\n",
       "      <td>0</td>\n",
       "      <td>1.1</td>\n",
       "      <td>93.994</td>\n",
       "      <td>-36.4</td>\n",
       "      <td>4.857</td>\n",
       "      <td>5191.0</td>\n",
       "      <td>0</td>\n",
       "    </tr>\n",
       "  </tbody>\n",
       "</table>\n",
       "<p>5 rows × 69 columns</p>\n",
       "</div>"
      ],
      "text/plain": [
       "   age  campaign  previous  job_admin.  job_blue-collar  job_entrepreneur  \\\n",
       "0   56         1         0           0                0                 0   \n",
       "1   57         1         0           0                0                 0   \n",
       "2   37         1         0           0                0                 0   \n",
       "3   40         1         0           1                0                 0   \n",
       "4   56         1         0           0                0                 0   \n",
       "\n",
       "   job_housemaid  job_management  job_retired  job_self-employed  ...  \\\n",
       "0              1               0            0                  0  ...   \n",
       "1              0               0            0                  0  ...   \n",
       "2              0               0            0                  0  ...   \n",
       "3              0               0            0                  0  ...   \n",
       "4              0               0            0                  0  ...   \n",
       "\n",
       "   pdays_10_14  pdays_15_19  pdays_20_22  pdays_25_27  emp.var.rate  \\\n",
       "0            0            0            0            0           1.1   \n",
       "1            0            0            0            0           1.1   \n",
       "2            0            0            0            0           1.1   \n",
       "3            0            0            0            0           1.1   \n",
       "4            0            0            0            0           1.1   \n",
       "\n",
       "   cons.price.idx  cons.conf.idx  euribor3m  nr.employed  y  \n",
       "0          93.994          -36.4      4.857       5191.0  0  \n",
       "1          93.994          -36.4      4.857       5191.0  0  \n",
       "2          93.994          -36.4      4.857       5191.0  0  \n",
       "3          93.994          -36.4      4.857       5191.0  0  \n",
       "4          93.994          -36.4      4.857       5191.0  0  \n",
       "\n",
       "[5 rows x 69 columns]"
      ]
     },
     "execution_count": 38,
     "metadata": {},
     "output_type": "execute_result"
    }
   ],
   "source": [
    "df_econ.head()"
   ]
  },
  {
   "cell_type": "code",
   "execution_count": 48,
   "metadata": {},
   "outputs": [],
   "source": [
    "features=list(df_econ.columns.values)\n",
    "features.remove('y')\n",
    "\n",
    "X = df_econ[features]\n",
    "Y = df_econ['y']\n",
    "\n",
    "X_train, X_test, y_train, y_test = train_test_split(X, Y, test_size=.2, random_state=20)"
   ]
  },
  {
   "cell_type": "code",
   "execution_count": 40,
   "metadata": {},
   "outputs": [],
   "source": [
    "#oversample = SMOTE(sampling_strategy=0.3)\n",
    "#X_over, Y_over = oversample.fit_resample(X_train, y_train)\n",
    "#undersample = RandomUnderSampler(sampling_strategy=0.3)\n",
    "#X_rs, Y_rs = undersample.fit_resample(X_over, Y_over)\n",
    "sm = SMOTE(random_state = 4)\n",
    "X_train_res, y_train_res= sm.fit_sample(X_train, y_train)"
   ]
  },
  {
   "cell_type": "code",
   "execution_count": 41,
   "metadata": {},
   "outputs": [
    {
     "name": "stdout",
     "output_type": "stream",
     "text": [
      "LR : 0.7853962972071598\n",
      "classification_report:\n",
      "               precision    recall  f1-score   support\n",
      "\n",
      "           0       0.91      0.98      0.94      7328\n",
      "           1       0.60      0.22      0.32       910\n",
      "\n",
      "    accuracy                           0.90      8238\n",
      "   macro avg       0.76      0.60      0.63      8238\n",
      "weighted avg       0.88      0.90      0.88      8238\n",
      "\n",
      "DecisionTree : 0.6268648927491722\n",
      "classification_report:\n",
      "               precision    recall  f1-score   support\n",
      "\n",
      "           0       0.92      0.90      0.91      7328\n",
      "           1       0.30      0.35      0.32       910\n",
      "\n",
      "    accuracy                           0.84      8238\n",
      "   macro avg       0.61      0.62      0.62      8238\n",
      "weighted avg       0.85      0.84      0.84      8238\n",
      "\n",
      "RandomForest : 0.7705033980757234\n",
      "classification_report:\n",
      "               precision    recall  f1-score   support\n",
      "\n",
      "           0       0.92      0.95      0.94      7328\n",
      "           1       0.49      0.35      0.41       910\n",
      "\n",
      "    accuracy                           0.89      8238\n",
      "   macro avg       0.70      0.65      0.67      8238\n",
      "weighted avg       0.87      0.89      0.88      8238\n",
      "\n",
      "GradientBoost : 0.775859266279572\n",
      "classification_report:\n",
      "               precision    recall  f1-score   support\n",
      "\n",
      "           0       0.93      0.94      0.94      7328\n",
      "           1       0.49      0.43      0.45       910\n",
      "\n",
      "    accuracy                           0.89      8238\n",
      "   macro avg       0.71      0.69      0.70      8238\n",
      "weighted avg       0.88      0.89      0.88      8238\n",
      "\n",
      "AdaBoost : 0.7578169237967273\n",
      "classification_report:\n",
      "               precision    recall  f1-score   support\n",
      "\n",
      "           0       0.93      0.93      0.93      7328\n",
      "           1       0.44      0.45      0.45       910\n",
      "\n",
      "    accuracy                           0.88      8238\n",
      "   macro avg       0.69      0.69      0.69      8238\n",
      "weighted avg       0.88      0.88      0.88      8238\n",
      "\n"
     ]
    }
   ],
   "source": [
    "models=[(LogisticRegression(), 'LR'),\n",
    "        (DecisionTreeClassifier(),'DecisionTree'),(RandomForestClassifier(),'RandomForest'),\n",
    "        (GradientBoostingClassifier(),'GradientBoost'),(AdaBoostClassifier(),'AdaBoost')]\n",
    "\n",
    "for model, model_label in models:\n",
    "    if model_label == 'LR':\n",
    "        scaler = StandardScaler()\n",
    "        scaled_xtrain = scaler.fit_transform(X_train_res)\n",
    "        scaled_xtest = scaler.transform(X_test)\n",
    "        model.fit(scaled_xtrain, y_train_res)\n",
    "        \n",
    "        y_predict_proba = model.predict_proba(scaled_xtest)[:,1]\n",
    "        auc = roc_auc_score(y_test, y_predict_proba)\n",
    "        y_predict = model.predict(scaled_xtest)\n",
    "    \n",
    "    else:\n",
    "        model.fit(X_train_res, y_train_res)\n",
    "        y_predict = model.predict_proba(X_test)[:,1]\n",
    "        fpr, tpr, threshold = roc_curve(y_test, y_predict)\n",
    "        auc = roc_auc_score(y_test, y_predict)\n",
    "        \n",
    "        y_predict_proba = model.predict_proba(X_test)[:,1]\n",
    "        auc = roc_auc_score(y_test, y_predict_proba)\n",
    "        y_predict = model.predict(X_test)\n",
    "    \n",
    "    print(model_label, ':', auc)\n",
    "    print('classification_report:\\n',classification_report(y_test,y_predict))\n",
    "    "
   ]
  },
  {
   "cell_type": "markdown",
   "metadata": {},
   "source": [
    "##### We see increases in auc scores and recall ---- new features are helpful"
   ]
  },
  {
   "cell_type": "markdown",
   "metadata": {},
   "source": [
    "## 4. Parameter Tuning with validation"
   ]
  },
  {
   "cell_type": "markdown",
   "metadata": {},
   "source": [
    "### 1. Logistic"
   ]
  },
  {
   "cell_type": "code",
   "execution_count": 44,
   "metadata": {},
   "outputs": [
    {
     "data": {
      "text/plain": [
       "{'logisticregression__C': 0.001, 'logisticregression__penalty': 'l2'}"
      ]
     },
     "execution_count": 44,
     "metadata": {},
     "output_type": "execute_result"
    }
   ],
   "source": [
    "log_pipe = imbPipeline([\n",
    "    (\"smote\", SMOTE()),\n",
    "    (\"standardscaler\", StandardScaler()),\n",
    "    (\"logisticregression\", LogisticRegression())\n",
    "])\n",
    "\n",
    "log_param = {'logisticregression__penalty':['l1', 'l2'],\n",
    "             'logisticregression__C':[0.001, 0.01, 0.1, 0.2, 0.3, 0.4, 0.5, 0.6, 0.7, 0.8, 0.9, 1, 10, 100, 1000]}\n",
    "\n",
    "kf = StratifiedKFold(n_splits=5, random_state = 89)\n",
    "\n",
    "#scoring=['roc_auc', 'recall', 'f1','accuracy']\n",
    "\n",
    "#scorers = {\n",
    "#    'precision_score': make_scorer(precision_score),\n",
    "#    'recall_score': make_scorer(recall_score),\n",
    "#    'accuracy_score': make_scorer(accuracy_score)}\n",
    "#log_grid = GridSearchCV(log_pipe, log_param, cv=kf, scoring=scorers, refit='recall_score')\n",
    "log_grid = GridSearchCV(log_pipe, log_param, cv=kf, scoring='recall')\n",
    "log_grid.fit(X_train, y_train)\n",
    "\n",
    "log_grid.best_params_"
   ]
  },
  {
   "cell_type": "code",
   "execution_count": 278,
   "metadata": {},
   "outputs": [],
   "source": [
    "#log_grid.cv_results_"
   ]
  },
  {
   "cell_type": "code",
   "execution_count": 54,
   "metadata": {},
   "outputs": [
    {
     "name": "stdout",
     "output_type": "stream",
     "text": [
      "LR Accuracy: 0.8937784522003035\n",
      "LR AUC: 0.7861530260407779\n",
      "LR Precision 0.5512740537737773\n",
      "LR Recall 0.33136729222520106\n",
      "LR F1 0.4138402350349019\n"
     ]
    }
   ],
   "source": [
    "pipeline =imbPipeline([\n",
    "        (\"smote\", SMOTE()),\n",
    "        (\"standardscaler\", StandardScaler()),\n",
    "        ( \"LR\", LogisticRegression(C=0.001, penalty='l2'))\n",
    "    ])\n",
    "kf = StratifiedKFold(n_splits=5, random_state = 89)\n",
    "scoring = ['accuracy','roc_auc','f1','precision','recall']\n",
    "scores = cross_validate(pipeline, X_train, y_train, cv=kf, scoring=scoring)\n",
    "print('LR', 'Accuracy:', scores['test_accuracy'].mean())\n",
    "print('LR','AUC:', scores['test_roc_auc'].mean())\n",
    "print('LR','Precision', scores['test_precision'].mean())\n",
    "print('LR', 'Recall', scores['test_recall'].mean())\n",
    "print('LR', 'F1', scores['test_f1'].mean())"
   ]
  },
  {
   "cell_type": "markdown",
   "metadata": {},
   "source": [
    "### 2. DecisionTree"
   ]
  },
  {
   "cell_type": "code",
   "execution_count": 59,
   "metadata": {},
   "outputs": [],
   "source": [
    "def model_print_scores(model_label, model):\n",
    "    pipeline =imbPipeline([(\"smote\", SMOTE()),( model_label, model)])\n",
    "    kf = StratifiedKFold(n_splits=5, random_state = 89)\n",
    "    scoring = ['accuracy','roc_auc','f1','precision','recall']\n",
    "    scores = cross_validate(pipeline, X_train, y_train, cv=kf, scoring=scoring)\n",
    "    print(model_label, 'Accuracy:', scores['test_accuracy'].mean())\n",
    "    print(model_label, 'AUC:', scores['test_roc_auc'].mean())\n",
    "    print(model_label, 'Precision', scores['test_precision'].mean())\n",
    "    print(model_label, 'Recall', scores['test_recall'].mean())\n",
    "    print(model_label, 'F1', scores['test_f1'].mean())"
   ]
  },
  {
   "cell_type": "code",
   "execution_count": 60,
   "metadata": {},
   "outputs": [
    {
     "data": {
      "text/plain": [
       "{'decisiontreeclassifier__min_samples_leaf': 20,\n",
       " 'decisiontreeclassifier__min_samples_split': 2000}"
      ]
     },
     "execution_count": 60,
     "metadata": {},
     "output_type": "execute_result"
    }
   ],
   "source": [
    "dt_pipe = imbPipeline([(\"smote\", SMOTE()), (\"decisiontreeclassifier\", DecisionTreeClassifier())])\n",
    "dt_params={'decisiontreeclassifier__min_samples_split': [10,25,50,100,150,200,300,400,500,600,800,1000,1200,1500,2000],\n",
    "           'decisiontreeclassifier__min_samples_leaf':[1, 2, 5, 10,20,50,100,200]}\n",
    "\n",
    "kf = StratifiedKFold(n_splits=5, random_state = 89)\n",
    "\n",
    "dt_grid = GridSearchCV(dt_pipe, dt_params, cv=kf, scoring='recall')\n",
    "dt_grid.fit(X_train, y_train)\n",
    "\n",
    "dt_grid.best_params_"
   ]
  },
  {
   "cell_type": "code",
   "execution_count": 61,
   "metadata": {},
   "outputs": [
    {
     "name": "stdout",
     "output_type": "stream",
     "text": [
      "decisiontree Accuracy: 0.8552959028831563\n",
      "decisiontree AUC: 0.7697546623286777\n",
      "decisiontree Precision 0.40382568681307607\n",
      "decisiontree Recall 0.5474530831099196\n",
      "decisiontree F1 0.46298536944928126\n"
     ]
    }
   ],
   "source": [
    "model_print_scores(\"decisiontree\", DecisionTreeClassifier(min_samples_leaf=20, min_samples_split=2000))"
   ]
  },
  {
   "cell_type": "markdown",
   "metadata": {},
   "source": [
    "### 3. RandomForest"
   ]
  },
  {
   "cell_type": "code",
   "execution_count": 62,
   "metadata": {},
   "outputs": [
    {
     "data": {
      "text/plain": [
       "{'randomforestclassifier__max_features': 'log2',\n",
       " 'randomforestclassifier__min_samples_leaf': 150,\n",
       " 'randomforestclassifier__n_estimators': 100}"
      ]
     },
     "execution_count": 62,
     "metadata": {},
     "output_type": "execute_result"
    }
   ],
   "source": [
    "rf_pipe = imbPipeline([(\"smote\", SMOTE()), (\"randomforestclassifier\", RandomForestClassifier())])\n",
    "\n",
    "rf_params={'randomforestclassifier__n_estimators' : [100,500,300,1000],\n",
    "           'randomforestclassifier__max_features' : ['sqrt', 'none', 'log2'],\n",
    "          'randomforestclassifier__min_samples_leaf' : [2, 10, 25, 50,75,100,125,150]}\n",
    "\n",
    "kf = StratifiedKFold(n_splits=5, random_state = 89)\n",
    "\n",
    "rf_grid = GridSearchCV(rf_pipe, rf_params, cv=kf, scoring='recall',n_jobs=-1)\n",
    "rf_grid.fit(X_train, y_train)\n",
    "\n",
    "rf_grid.best_params_"
   ]
  },
  {
   "cell_type": "code",
   "execution_count": 63,
   "metadata": {},
   "outputs": [
    {
     "name": "stdout",
     "output_type": "stream",
     "text": [
      "RF Accuracy: 0.8572078907435507\n",
      "RF AUC: 0.7884776989942252\n",
      "RF Precision 0.41023092613081724\n",
      "RF Recall 0.5967828418230564\n",
      "RF F1 0.4861797336102354\n"
     ]
    }
   ],
   "source": [
    "model_print_scores(\"RF\", RandomForestClassifier(max_features='log2',min_samples_leaf=150, n_estimators=100))"
   ]
  },
  {
   "cell_type": "markdown",
   "metadata": {},
   "source": [
    "### 4. GradientBoostingClassifier()"
   ]
  },
  {
   "cell_type": "code",
   "execution_count": 64,
   "metadata": {},
   "outputs": [
    {
     "data": {
      "text/plain": [
       "{'gradientboostingclassifier__learning_rate': 0.05,\n",
       " 'gradientboostingclassifier__n_estimators': 20}"
      ]
     },
     "execution_count": 64,
     "metadata": {},
     "output_type": "execute_result"
    }
   ],
   "source": [
    "gb_pipe = imbPipeline([(\"smote\", SMOTE()), (\"gradientboostingclassifier\", GradientBoostingClassifier())])\n",
    "\n",
    "gb_params = {'gradientboostingclassifier__learning_rate': [0.05, 0.1, 0.2],\n",
    "             'gradientboostingclassifier__n_estimators':range(20,151,10)}\n",
    "\n",
    "kf = StratifiedKFold(n_splits=5, random_state = 89)\n",
    "\n",
    "gb_grid = GridSearchCV(gb_pipe, gb_params, cv=kf, scoring='recall')\n",
    "gb_grid.fit(X_train, y_train)\n",
    "\n",
    "gb_grid.best_params_"
   ]
  },
  {
   "cell_type": "code",
   "execution_count": 65,
   "metadata": {},
   "outputs": [
    {
     "name": "stdout",
     "output_type": "stream",
     "text": [
      "GB Accuracy: 0.8546282245827012\n",
      "GB AUC: 0.7820333588401202\n",
      "GB Precision 0.40233290515936365\n",
      "GB Recall 0.5828418230563003\n",
      "GB F1 0.47579436278278103\n"
     ]
    }
   ],
   "source": [
    "model_print_scores(\"GB\", GradientBoostingClassifier(learning_rate=0.05,n_estimators=20))"
   ]
  },
  {
   "cell_type": "code",
   "execution_count": 66,
   "metadata": {},
   "outputs": [
    {
     "data": {
      "text/plain": [
       "{'gradientboostingclassifier__max_depth': 5,\n",
       " 'gradientboostingclassifier__min_samples_split': 1000}"
      ]
     },
     "execution_count": 66,
     "metadata": {},
     "output_type": "execute_result"
    }
   ],
   "source": [
    "gb_pipe2 = imbPipeline([(\"smote\", SMOTE()), (\"gradientboostingclassifier\", GradientBoostingClassifier(learning_rate=0.05,n_estimators=20))])\n",
    "\n",
    "gb_params2 = {'gradientboostingclassifier__max_depth':range(5,16,2), \n",
    "              'gradientboostingclassifier__min_samples_split':range(200,1001,200)}\n",
    "\n",
    "gb_grid2 = GridSearchCV(gb_pipe2, gb_params2, cv=kf, scoring='recall')\n",
    "gb_grid2.fit(X_train, y_train)\n",
    "\n",
    "gb_grid2.best_params_"
   ]
  },
  {
   "cell_type": "code",
   "execution_count": 67,
   "metadata": {},
   "outputs": [
    {
     "name": "stdout",
     "output_type": "stream",
     "text": [
      "GB Accuracy: 0.8697723823975722\n",
      "GB AUC: 0.7861322444320886\n",
      "GB Precision 0.4400644085194479\n",
      "GB Recall 0.5506702412868633\n",
      "GB F1 0.4888646776441255\n"
     ]
    }
   ],
   "source": [
    "model_print_scores(\"GB\", GradientBoostingClassifier(learning_rate=0.05,n_estimators=20,max_depth=5,min_samples_split= 1000))"
   ]
  },
  {
   "cell_type": "markdown",
   "metadata": {},
   "source": [
    "### 5. AdaBoostClassifier()"
   ]
  },
  {
   "cell_type": "code",
   "execution_count": 68,
   "metadata": {},
   "outputs": [
    {
     "data": {
      "text/plain": [
       "{'adaboostclassifier__learning_rate': 0.05,\n",
       " 'adaboostclassifier__n_estimators': 25}"
      ]
     },
     "execution_count": 68,
     "metadata": {},
     "output_type": "execute_result"
    }
   ],
   "source": [
    "ada_pipe = imbPipeline([(\"smote\", SMOTE()), (\"adaboostclassifier\", AdaBoostClassifier())])\n",
    "\n",
    "ada_params = {'adaboostclassifier__n_estimators': [25,50,75,100,150,200,300,400],\n",
    "              'adaboostclassifier__learning_rate': [0.0001, 0.001,0.01, 0.05, 0.1, 0.5, 1]}\n",
    "\n",
    "kf = StratifiedKFold(n_splits=5, random_state = 89)\n",
    "\n",
    "ada_grid = GridSearchCV(ada_pipe, ada_params, cv=kf, scoring='recall')\n",
    "ada_grid.fit(X_train, y_train)\n",
    "\n",
    "ada_grid.best_params_"
   ]
  },
  {
   "cell_type": "code",
   "execution_count": 69,
   "metadata": {},
   "outputs": [
    {
     "name": "stdout",
     "output_type": "stream",
     "text": [
      "Ada Accuracy: 0.7520789074355084\n",
      "Ada AUC: 0.7710687435430211\n",
      "Ada Precision 0.2692055449516958\n",
      "Ada Recall 0.6916890080428955\n",
      "Ada F1 0.38741218376359343\n"
     ]
    }
   ],
   "source": [
    "model_print_scores(\"Ada\", AdaBoostClassifier(learning_rate=0.05,n_estimators=25))"
   ]
  },
  {
   "cell_type": "markdown",
   "metadata": {},
   "source": [
    "#### AdaBoost gives the best recall, with RandomForest as the second best. Their auc scores are very similar, but Ada has lower accuracy, precision and F1 scores (since it predicts many 0 as 1, high false positive). "
   ]
  },
  {
   "cell_type": "markdown",
   "metadata": {},
   "source": [
    "##### Depends on the marketing budget, if the bank is eager to seize all positive subscriber, we'll go with AdaBoost. If the budget is limited, we can go with RandomForest."
   ]
  },
  {
   "cell_type": "markdown",
   "metadata": {},
   "source": [
    "## 4. Recall Threshold"
   ]
  },
  {
   "cell_type": "markdown",
   "metadata": {},
   "source": [
    "divide train set to have train and validation"
   ]
  },
  {
   "cell_type": "code",
   "execution_count": 72,
   "metadata": {},
   "outputs": [],
   "source": [
    "X_train2, X_val, y_train2, y_val = train_test_split(X_train, y_train, test_size=.2, random_state=40)"
   ]
  },
  {
   "cell_type": "code",
   "execution_count": 73,
   "metadata": {},
   "outputs": [],
   "source": [
    "sm = SMOTE(random_state = 8)\n",
    "X_train_res, y_train_res= sm.fit_sample(X_train2, y_train2)"
   ]
  },
  {
   "cell_type": "markdown",
   "metadata": {},
   "source": [
    "#### RandomForest"
   ]
  },
  {
   "cell_type": "code",
   "execution_count": 74,
   "metadata": {},
   "outputs": [
    {
     "name": "stdout",
     "output_type": "stream",
     "text": [
      "AUC 0.7955953902257977\n",
      "classification_report:\n",
      "               precision    recall  f1-score   support\n",
      "\n",
      "           0       0.94      0.88      0.91      5826\n",
      "           1       0.40      0.60      0.48       764\n",
      "\n",
      "    accuracy                           0.85      6590\n",
      "   macro avg       0.67      0.74      0.70      6590\n",
      "weighted avg       0.88      0.85      0.86      6590\n",
      "\n"
     ]
    },
    {
     "data": {
      "image/png": "[encoded data removed]",
      "text/plain": [
       "<Figure size 432x288 with 2 Axes>"
      ]
     },
     "metadata": {
      "needs_background": "light"
     },
     "output_type": "display_data"
    }
   ],
   "source": [
    "rf_model=RandomForestClassifier(max_features='log2',min_samples_leaf=150, n_estimators=100)\n",
    "rf_model.fit(X_train_res, y_train_res)\n",
    "\n",
    "y_predict_proba = rf_model.predict_proba(X_val)[:,1]\n",
    "y_predict = rf_model.predict(X_val)\n",
    "auc = roc_auc_score(y_val, y_predict_proba)\n",
    "    \n",
    "print('AUC', auc)\n",
    "print('classification_report:\\n',classification_report(y_val,y_predict))\n",
    "sns.heatmap(confusion_matrix(y_val, y_predict),annot=True,fmt='d')\n",
    "plt.show()"
   ]
  },
  {
   "cell_type": "code",
   "execution_count": 76,
   "metadata": {},
   "outputs": [
    {
     "name": "stdout",
     "output_type": "stream",
     "text": [
      "Best Threshold=0.579565, F-Score=0.494\n",
      "recall:0.5654450261780105\n"
     ]
    },
    {
     "data": {
      "image/png": "[encoded data removed]",
      "text/plain": [
       "<Figure size 432x288 with 1 Axes>"
      ]
     },
     "metadata": {
      "needs_background": "light"
     },
     "output_type": "display_data"
    }
   ],
   "source": [
    "yhat = rf_model.predict_proba(X_val)\n",
    "# keep probabilities for the positive outcome only\n",
    "yhat = yhat[:, 1]\n",
    "# calculate roc curves\n",
    "precision, recall, thresholds = precision_recall_curve(y_val, yhat)\n",
    "# convert to f score\n",
    "fscore = (2 * precision * recall) / (precision + recall)\n",
    "# locate the index of the largest f score\n",
    "ix = np.argmax(fscore)\n",
    "print('Best Threshold=%f, F-Score=%.3f' % (thresholds[ix], fscore[ix]))\n",
    "print(f'recall:{recall[ix]}' )\n",
    "# plot the roc curve for the model\n",
    "plt.plot(recall, precision, color='orange', label='Logistic')\n",
    "plt.scatter(recall[ix], precision[ix], marker='o', color='black', label='Best')\n",
    "# axis labels\n",
    "plt.xlabel('Recall')\n",
    "plt.ylabel('Precision')\n",
    "plt.legend()\n",
    "# show the plot\n",
    "plt.show()"
   ]
  },
  {
   "cell_type": "markdown",
   "metadata": {},
   "source": [
    "### Ada"
   ]
  },
  {
   "cell_type": "code",
   "execution_count": 77,
   "metadata": {},
   "outputs": [
    {
     "name": "stdout",
     "output_type": "stream",
     "text": [
      "0.7819095613992519\n",
      "classification_report:\n",
      "               precision    recall  f1-score   support\n",
      "\n",
      "           0       0.95      0.77      0.85      5826\n",
      "           1       0.28      0.70      0.40       764\n",
      "\n",
      "    accuracy                           0.76      6590\n",
      "   macro avg       0.62      0.73      0.63      6590\n",
      "weighted avg       0.87      0.76      0.80      6590\n",
      "\n"
     ]
    },
    {
     "data": {
      "image/png": "[encoded data removed]",
      "text/plain": [
       "<Figure size 432x288 with 2 Axes>"
      ]
     },
     "metadata": {
      "needs_background": "light"
     },
     "output_type": "display_data"
    }
   ],
   "source": [
    "ada_model=AdaBoostClassifier(learning_rate=0.05,n_estimators=25)\n",
    "ada_model.fit(X_train_res, y_train_res)\n",
    "    \n",
    "y_predict_proba = ada_model.predict_proba(X_val)[:,1]\n",
    "y_predict = ada_model.predict(X_val)\n",
    "auc = roc_auc_score(y_val, y_predict_proba)\n",
    "    \n",
    "print(auc)\n",
    "print('classification_report:\\n',classification_report(y_val,y_predict))\n",
    "sns.heatmap(confusion_matrix(y_val, y_predict),annot=True,fmt='d')\n",
    "plt.show()"
   ]
  },
  {
   "cell_type": "code",
   "execution_count": 78,
   "metadata": {},
   "outputs": [
    {
     "name": "stdout",
     "output_type": "stream",
     "text": [
      "Best Threshold=0.685094, F-Score=0.469\n",
      "recall:0.49607329842931935\n"
     ]
    },
    {
     "data": {
      "image/png": "[encoded data removed]",
      "text/plain": [
       "<Figure size 432x288 with 1 Axes>"
      ]
     },
     "metadata": {
      "needs_background": "light"
     },
     "output_type": "display_data"
    }
   ],
   "source": [
    "yhat = ada_model.predict_proba(X_val)\n",
    "# keep probabilities for the positive outcome only\n",
    "yhat = yhat[:, 1]\n",
    "# calculate roc curves\n",
    "precision, recall, thresholds = precision_recall_curve(y_val, yhat)\n",
    "# convert to f score\n",
    "fscore = (2 * precision * recall) / (precision + recall)\n",
    "# locate the index of the largest f score\n",
    "ix = np.argmax(fscore)\n",
    "print('Best Threshold=%f, F-Score=%.3f' % (thresholds[ix], fscore[ix]))\n",
    "print(f'recall:{recall[ix]}' )\n",
    "# plot the roc curve for the model\n",
    "plt.plot(recall, precision, color='orange', label='Logistic')\n",
    "plt.scatter(recall[ix], precision[ix], marker='o', color='black', label='Best')\n",
    "# axis labels\n",
    "plt.xlabel('Recall')\n",
    "plt.ylabel('Precision')\n",
    "plt.legend()\n",
    "# show the plot\n",
    "plt.show()"
   ]
  },
  {
   "cell_type": "code",
   "execution_count": null,
   "metadata": {},
   "outputs": [],
   "source": [
    "clf = sklearn.ensemble.RandomForestClassifier()\n",
    "model = fit(X,y) # fit model to training datset\n",
    "probs = model.predict_proba(X_new) # prediction on a new dataset X_new\n",
    "\n",
    "threshold = 0.7 # threshold we set where the probability prediction must be above this to be classified as a '1'\n",
    "classes = probs[:,1] # say it is the class in the second column you care about predictint\n",
    "classes[classes>=threshold] = 1\n",
    "classes[classes<threshold] = 0"
   ]
  },
  {
   "cell_type": "markdown",
   "metadata": {},
   "source": [
    "#### To be honest, we don't need adjust threshold since f1 in our current result is already close enough to the best f1 score, but we don't want to scarifice too much recall."
   ]
  },
  {
   "cell_type": "markdown",
   "metadata": {},
   "source": [
    "## 5. Pick the final model and read .feature_importances"
   ]
  },
  {
   "cell_type": "markdown",
   "metadata": {},
   "source": [
    "final model: fit on train test on test"
   ]
  },
  {
   "cell_type": "code",
   "execution_count": 79,
   "metadata": {},
   "outputs": [],
   "source": [
    "sm = SMOTE(random_state = 12)\n",
    "X_train_res, y_train_res= sm.fit_sample(X_train, y_train)"
   ]
  },
  {
   "cell_type": "code",
   "execution_count": 81,
   "metadata": {},
   "outputs": [
    {
     "name": "stdout",
     "output_type": "stream",
     "text": [
      "AUC 0.782694407121263\n",
      "classification_report:\n",
      "               precision    recall  f1-score   support\n",
      "\n",
      "           0       0.94      0.90      0.92      7328\n",
      "           1       0.41      0.58      0.48       910\n",
      "\n",
      "    accuracy                           0.86      8238\n",
      "   macro avg       0.68      0.74      0.70      8238\n",
      "weighted avg       0.89      0.86      0.87      8238\n",
      "\n"
     ]
    },
    {
     "data": {
      "image/png": "[encoded data removed]",
      "text/plain": [
       "<Figure size 432x288 with 2 Axes>"
      ]
     },
     "metadata": {
      "needs_background": "light"
     },
     "output_type": "display_data"
    }
   ],
   "source": [
    "rf_model=RandomForestClassifier(max_features='log2',min_samples_leaf=150, n_estimators=100)\n",
    "rf_model.fit(X_train_res, y_train_res)\n",
    "    \n",
    "y_predict_proba = rf_model.predict_proba(X_test)[:,1]\n",
    "y_predict = rf_model.predict(X_test)\n",
    "auc = roc_auc_score(y_test, y_predict_proba)\n",
    "    \n",
    "print('AUC', auc)\n",
    "print('classification_report:\\n',classification_report(y_test,y_predict))\n",
    "sns.heatmap(confusion_matrix(y_test, y_predict),annot=True,fmt='d')\n",
    "plt.show()"
   ]
  },
  {
   "cell_type": "code",
   "execution_count": 82,
   "metadata": {},
   "outputs": [
    {
     "name": "stdout",
     "output_type": "stream",
     "text": [
      "AUC 0.7645401200873363\n",
      "classification_report:\n",
      "               precision    recall  f1-score   support\n",
      "\n",
      "           0       0.95      0.77      0.85      7328\n",
      "           1       0.27      0.67      0.38       910\n",
      "\n",
      "    accuracy                           0.76      8238\n",
      "   macro avg       0.61      0.72      0.61      8238\n",
      "weighted avg       0.87      0.76      0.80      8238\n",
      "\n"
     ]
    },
    {
     "data": {
      "image/png": "[encoded data removed]",
      "text/plain": [
       "<Figure size 432x288 with 2 Axes>"
      ]
     },
     "metadata": {
      "needs_background": "light"
     },
     "output_type": "display_data"
    }
   ],
   "source": [
    "ada_model=ada_model=AdaBoostClassifier(learning_rate=0.05,n_estimators=25)\n",
    "ada_model.fit(X_train_res, y_train_res)\n",
    "    \n",
    "y_predict_proba = ada_model.predict_proba(X_test)[:,1]\n",
    "y_predict = ada_model.predict(X_test)\n",
    "auc = roc_auc_score(y_test, y_predict_proba)\n",
    "    \n",
    "print('AUC', auc)\n",
    "print('classification_report:\\n',classification_report(y_test,y_predict))\n",
    "sns.heatmap(confusion_matrix(y_test, y_predict),annot=True,fmt='d')\n",
    "plt.show()"
   ]
  },
  {
   "cell_type": "markdown",
   "metadata": {},
   "source": [
    "We can see here AdaBoost has 1682 false positive vs 767 in RF. \n",
    "Depends on the marketing budget, if the bank is eager to seize all positive subscriber, we'll go with AdaBoost. If the budget is limited, we can go with RandomForest."
   ]
  },
  {
   "cell_type": "code",
   "execution_count": 84,
   "metadata": {},
   "outputs": [],
   "source": [
    "def plot_feature_importance(importance,names,model_type):\n",
    "\n",
    "    #Create arrays from feature importance and feature names\n",
    "    feature_importance = np.array(importance)\n",
    "    feature_names = np.array(names)\n",
    "\n",
    "    #Create a DataFrame using a Dictionary\n",
    "    data={'feature_names':feature_names,'feature_importance':feature_importance}\n",
    "    fi_df = pd.DataFrame(data)\n",
    "\n",
    "    #Sort the DataFrame in order decreasing feature importance\n",
    "    fi_df.sort_values(by=['feature_importance'], ascending=False,inplace=True)\n",
    "\n",
    "    #Define size of bar plot\n",
    "    plt.figure(figsize=(10,8))\n",
    "    #Plot Searborn bar chart\n",
    "    sns.barplot(x=fi_df['feature_importance'][:20], y=fi_df['feature_names'][:20])\n",
    "    #Add chart labels\n",
    "    plt.title(model_type + ' Feature Importance')\n",
    "    plt.xlabel('FEATURE IMPORTANCE')\n",
    "    plt.ylabel('FEATURE NAMES')\n"
   ]
  },
  {
   "cell_type": "markdown",
   "metadata": {},
   "source": [
    "https://www.analyseup.com/learn-python-for-data-science/python-random-forest-feature-importance-plot.html"
   ]
  },
  {
   "cell_type": "code",
   "execution_count": 85,
   "metadata": {},
   "outputs": [
    {
     "data": {
      "image/png": "[encoded data removed]",
      "text/plain": [
       "<Figure size 720x576 with 1 Axes>"
      ]
     },
     "metadata": {
      "needs_background": "light"
     },
     "output_type": "display_data"
    }
   ],
   "source": [
    "plot_feature_importance(rf_model.feature_importances_,X_train.columns,'RandomForest')"
   ]
  },
  {
   "cell_type": "code",
   "execution_count": 86,
   "metadata": {},
   "outputs": [
    {
     "data": {
      "image/png": "[encoded data removed]",
      "text/plain": [
       "<Figure size 720x576 with 1 Axes>"
      ]
     },
     "metadata": {
      "needs_background": "light"
     },
     "output_type": "display_data"
    }
   ],
   "source": [
    "plot_feature_importance(ada_model.feature_importances_,X_train.columns,'AdaBoost')"
   ]
  },
  {
   "cell_type": "code",
   "execution_count": null,
   "metadata": {},
   "outputs": [],
   "source": []
  }
 ],
 "metadata": {
  "kernelspec": {
   "display_name": "Python 3",
   "language": "python",
   "name": "python3"
  },
  "language_info": {
   "codemirror_mode": {
    "name": "ipython",
    "version": 3
   },
   "file_extension": ".py",
   "mimetype": "text/x-python",
   "name": "python",
   "nbconvert_exporter": "python",
   "pygments_lexer": "ipython3",
   "version": "3.8.3"
  }
 },
 "nbformat": 4,
 "nbformat_minor": 4
}
